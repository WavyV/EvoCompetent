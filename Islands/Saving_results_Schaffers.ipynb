{
 "cells": [
  {
   "cell_type": "code",
   "execution_count": 1,
   "metadata": {},
   "outputs": [],
   "source": [
    "import numpy as np\n",
    "from matplotlib import pyplot as plt\n",
    "from scipy import stats"
   ]
  },
  {
   "cell_type": "code",
   "execution_count": 40,
   "metadata": {},
   "outputs": [],
   "source": [
    "S = 100  #Number of runs\n",
    "G_array = np.zeros((S))  #Array that holds the number of generations per run\n",
    "N = 60  #Number of individuals\n",
    "D = 11  #Dimension of individual"
   ]
  },
  {
   "cell_type": "code",
   "execution_count": 41,
   "metadata": {},
   "outputs": [],
   "source": [
    "#Opening files one run at the time and noting how many generations per run there were\n",
    "for s in range(0, S):\n",
    "\n",
    "    #Opening a file and copying all results\n",
    "    file_name = 'Results_Schaffers/results_seed%d.txt' % s\n",
    "    with open(file_name) as f:\n",
    "        content = f.readlines()\n",
    "    f.close()\n",
    "\n",
    "    #Specifically checking for the number of runs\n",
    "    for line in range(0, len(content)):\n",
    "        if(content[line].split()[0] == '===============NewGeneration'):\n",
    "            line += 1\n",
    "            G_array[s] = int(content[line].split()[0])\n",
    "\n",
    "    #Clearing some memory\n",
    "    del content\n",
    "\n",
    "#Checking whether the number of generations is the same for each run\n",
    "#If not, output some text to make the user aware of this (it might lead to some discrepancies later on)\n",
    "for s in range(0, S):\n",
    "    if(G_array[0] == G_array[s]):\n",
    "        continue\n",
    "    else:\n",
    "        print(\"Pay attention\")\n",
    "G = int(G_array[0])+1 #+1 because of generation 0, which is the initial state"
   ]
  },
  {
   "cell_type": "code",
   "execution_count": null,
   "metadata": {},
   "outputs": [],
   "source": []
  },
  {
   "cell_type": "code",
   "execution_count": 152,
   "metadata": {},
   "outputs": [],
   "source": [
    "#Declaring the 3D array that will hold all results\n",
    "#First index is the fitness of individual i\n",
    "#Second index is what generation\n",
    "#Third index is what run\n",
    "results1 = np.zeros((N, G, S))\n",
    "results2 = np.zeros((N, G, S))\n",
    "results3 = np.zeros((N, G, S))\n",
    "results123 = np.zeros((3*N,G,S))\n",
    "\n",
    "\n",
    "#Now copy all the data to the results array\n",
    "for s in range(0, S):\n",
    "\n",
    "    #Opening a file and putting the information in content\n",
    "    file_name = 'Results_Schaffers/results_seed%d.txt' % s\n",
    "    with open(file_name) as f:\n",
    "        content = f.readlines()\n",
    "    f.close()\n",
    "\n",
    "    #Go through content line by line and copy the coordinates to the appropriate indices\n",
    "\n",
    "    line=0\n",
    "    while (line<len(content)):\n",
    "        if (content[line].split()[0] == '===============NewGeneration'):\n",
    "            generation = int(content[line+1].split()[0])\n",
    "        if (content[line].split()[0] == '===============ConventionalAlgorithm'):\n",
    "            line += 1\n",
    "            for i in range(0,N):\n",
    "                results1[i, generation, s] = content[line].split()[33].strip(',').strip('[').strip(']')\n",
    "                results123[i, generation, s] = content[line].split()[33].strip(',').strip('[').strip(']')\n",
    "                line+=1\n",
    "        if (content[line].split()[0] == '===============DifferentialEvolution'):\n",
    "            line += 1\n",
    "            for i in range(0,N):\n",
    "                results2[i, generation, s] = content[line].split()[33].strip(',').strip('[').strip(']')\n",
    "                results123[i+N, generation, s] = content[line].split()[33].strip(',').strip('[').strip(']')\n",
    "                line+=1\n",
    "        if (content[line].split()[0] == '===============ParticleSwarmOptimisation'):\n",
    "            line += 1\n",
    "            for i in range(0,N):\n",
    "                results3[i, generation, s] = content[line].split()[33].strip(',').strip('[').strip(']')\n",
    "                results123[i+(2*N), generation, s] = content[line].split()[33].strip(',').strip('[').strip(']')\n",
    "                line+=1\n",
    "        else:\n",
    "            line+=1\n",
    "                \n",
    "            \n",
    "    \n",
    "    #Clearing some memory\n",
    "    del content\n",
    "    \n",
    "    \n",
    "    \n",
    "\n",
    "\n",
    "\n"
   ]
  },
  {
   "cell_type": "code",
   "execution_count": 62,
   "metadata": {},
   "outputs": [
    {
     "name": "stdout",
     "output_type": "stream",
     "text": [
      "0.327836696754\n"
     ]
    }
   ],
   "source": []
  },
  {
   "cell_type": "code",
   "execution_count": 156,
   "metadata": {},
   "outputs": [],
   "source": [
    "#Now it's time for some statistical analysis\n",
    "#First take the average per generation for each run\n",
    "average_per_generation_one_run1 = np.zeros((G, S))\n",
    "average_per_generation_one_run2 = np.zeros((G, S))\n",
    "average_per_generation_one_run3 = np.zeros((G, S))\n",
    "average_per_generation_one_run123 = np.zeros((G, S))\n",
    "champions_per_run1 = np.zeros((G, S))\n",
    "champions_per_run2 = np.zeros((G, S))\n",
    "champions_per_run3 = np.zeros((G, S))\n",
    "champions_per_run123 = np.zeros((G, S))\n",
    "for s in range(0, S):\n",
    "    for t in range(0, G):\n",
    "        average_per_generation_one_run1[t, s] = np.mean(results1[:, t, s])\n",
    "        average_per_generation_one_run2[t, s] = np.mean(results2[:, t, s])\n",
    "        average_per_generation_one_run3[t, s] = np.mean(results3[:, t, s])\n",
    "        average_per_generation_one_run123[t, s] = np.mean(results123[:, t, s])\n",
    "        champions_per_run1[t, s] = np.max(results1[:, t, s])\n",
    "        champions_per_run2[t, s] = np.max(results2[:, t, s])\n",
    "        champions_per_run3[t, s] = np.max(results3[:, t, s])\n",
    "        champions_per_run123[t, s] = np.max(results123[:, t, s])\n",
    "\n",
    "#np.savetxt('results/averages_schaffers_1.txt', average_per_generation_one_run1, fmt='%f')\n",
    "#np.savetxt('results/champions_schaffers_1.txt', champions_per_run1, fmt='%f')\n",
    "#np.savetxt('results/averages_schaffers_2.txt', average_per_generation_one_run2, fmt='%f')\n",
    "#np.savetxt('results/champions_schaffers_2.txt', champions_per_run2, fmt='%f')\n",
    "#np.savetxt('results/averages_schaffers_3.txt', average_per_generation_one_run3, fmt='%f')\n",
    "#np.savetxt('results/champions_schaffers_3.txt', champions_per_run3, fmt='%f')\n",
    "#np.savetxt('results/averages_schaffers_123.txt', average_per_generation_one_run123, fmt='%f')\n",
    "#np.savetxt('results/champions_schaffers_123.txt', champions_per_run123, fmt='%f')\n",
    "\n",
    "\n",
    "overall_champions1 = np.zeros((G))\n",
    "overall_champions2 = np.zeros((G))\n",
    "overall_champions3 = np.zeros((G))\n",
    "overall_champions123 = np.zeros((G))\n",
    "for t in range(0, G):\n",
    "    overall_champions1[t] = np.max(champions_per_run1[t, :])\n",
    "    overall_champions2[t] = np.max(champions_per_run2[t, :])\n",
    "    overall_champions3[t] = np.max(champions_per_run3[t, :])\n",
    "    overall_champions123[t] = np.max(champions_per_run123[t, :])\n",
    "\n",
    "median_per_generation1 = np.zeros((G))\n",
    "median_per_generation2 = np.zeros((G))\n",
    "median_per_generation3 = np.zeros((G))\n",
    "median_per_generation123 = np.zeros((G))\n",
    "first_quartile1 = np.zeros((G))\n",
    "third_quartile1 = np.zeros((G))\n",
    "first_quartile2 = np.zeros((G))\n",
    "third_quartile2 = np.zeros((G))\n",
    "first_quartile3 = np.zeros((G))\n",
    "third_quartile3 = np.zeros((G))\n",
    "first_quartile123 = np.zeros((G))\n",
    "third_quartile123 = np.zeros((G))\n",
    "for t in range(0, G):\n",
    "    median_per_generation1[t] = np.median(average_per_generation_one_run1[t, :])\n",
    "    median_per_generation2[t] = np.median(average_per_generation_one_run2[t, :])\n",
    "    median_per_generation3[t] = np.median(average_per_generation_one_run3[t, :])\n",
    "    median_per_generation123[t] = np.median(average_per_generation_one_run123[t, :])\n",
    "    first_quartile1[t] = np.percentile(average_per_generation_one_run1[t, :], 25)\n",
    "    third_quartile1[t] = np.percentile(average_per_generation_one_run1[t, :], 75)\n",
    "    first_quartile2[t] = np.percentile(average_per_generation_one_run2[t, :], 25)\n",
    "    third_quartile2[t] = np.percentile(average_per_generation_one_run2[t, :], 75)\n",
    "    first_quartile3[t] = np.percentile(average_per_generation_one_run3[t, :], 25)\n",
    "    third_quartile3[t] = np.percentile(average_per_generation_one_run3[t, :], 75)\n",
    "    first_quartile123[t] = np.percentile(average_per_generation_one_run123[t, :], 25)\n",
    "    third_quartile123[t] = np.percentile(average_per_generation_one_run123[t, :], 75)\n",
    "\n",
    "#\n",
    "# np.savetxt('results/median_katsuura_DE.txt', median_per_generation, fmt='%f')\n",
    "# np.savetxt('results/firstquartile_katsuura_DE.txt', first_quartile, fmt='%f')\n",
    "# np.savetxt('results/thirdquartile_katsuura_DE.txt', third_quartile, fmt='%f')\n",
    "# np.savetxt('results/champions_katsuura_DE.txt', overall_champions, fmt='%f')\n",
    "\n",
    "\n",
    "\n"
   ]
  },
  {
   "cell_type": "code",
   "execution_count": 151,
   "metadata": {},
   "outputs": [
    {
     "name": "stdout",
     "output_type": "stream",
     "text": [
      "5.96909389151\n"
     ]
    }
   ],
   "source": [
    "print median_per_generation3[206] #fitness suddenly drops from generation 126 to 127 and 151 to 152 when epoch is 125\n",
    "\n",
    "#121 to 122 and 141 to 142 when epoch=20"
   ]
  },
  {
   "cell_type": "code",
   "execution_count": 154,
   "metadata": {},
   "outputs": [
    {
     "data": {
      "image/png": "[encoded data removed]",
      "text/plain": [
       "<matplotlib.figure.Figure at 0x113009f90>"
      ]
     },
     "metadata": {},
     "output_type": "display_data"
    }
   ],
   "source": [
    "#Plotting median with interquartile distance\n",
    "plt.plot(range(0,G), median_per_generation123, color='blue', label='Median')\n",
    "plt.fill_between(range(0, G), third_quartile123, first_quartile123, color='blue', alpha=0.15, linewidth=0)\n",
    "plt.plot(range(0,G), overall_champions2, color='blue', linestyle='--', label='Best')\n",
    "plt.title('All three islands')\n",
    "plt.xlabel('Generation')\n",
    "plt.ylabel('Fitness')\n",
    "plt.xlim(xmin=0)\n",
    "plt.ylim(ymin=0)\n",
    "plt.legend()\n",
    "plt.show()"
   ]
  }
 ],
 "metadata": {
  "kernelspec": {
   "display_name": "Python 2",
   "language": "python",
   "name": "python2"
  },
  "language_info": {
   "codemirror_mode": {
    "name": "ipython",
    "version": 2
   },
   "file_extension": ".py",
   "mimetype": "text/x-python",
   "name": "python",
   "nbconvert_exporter": "python",
   "pygments_lexer": "ipython2",
   "version": "2.7.13"
  }
 },
 "nbformat": 4,
 "nbformat_minor": 2
}
